{
 "cells": [
  {
   "cell_type": "markdown",
   "id": "50561fd7",
   "metadata": {},
   "source": [
    "# Nathan Junker, Descriptive Questions, CS150, Version 1"
   ]
  },
  {
   "cell_type": "code",
   "execution_count": 99,
   "id": "d2cba6ec",
   "metadata": {},
   "outputs": [],
   "source": [
    "import math\n",
    "def prime(number):\n",
    "    x=number-1\n",
    "    if number==2 or number==3:\n",
    "        print(\"A prime\")\n",
    "        return\n",
    "    elif number==1:\n",
    "        print(\"Not a prime\")\n",
    "        return\n",
    "    while x != 1:\n",
    "        if number/x == number//x:\n",
    "            print(\"Not a prime\")\n",
    "            break\n",
    "        elif x==2:\n",
    "            print(\"A prime\")\n",
    "        x-=1"
   ]
  },
  {
   "cell_type": "code",
   "execution_count": 13,
   "id": "441e2b53",
   "metadata": {},
   "outputs": [
    {
     "name": "stdout",
     "output_type": "stream",
     "text": [
      "Not a prime\n",
      "A prime\n",
      "A prime\n",
      "Not a prime\n",
      "A prime\n"
     ]
    }
   ],
   "source": [
    "prime(1)\n",
    "prime(2)\n",
    "prime(3)\n",
    "prime(4)\n",
    "prime(5)"
   ]
  },
  {
   "cell_type": "code",
   "execution_count": 95,
   "id": "e15cdf47",
   "metadata": {},
   "outputs": [],
   "source": [
    "def palindrome(phrase):\n",
    "    phrase=phrase.lower()\n",
    "    forward_phrase=[x for x in phrase]\n",
    "    #print(forward_phrase)\n",
    "    \n",
    "    backwards_phrase=[x for x in forward_phrase[::-1]]\n",
    "    #print(backwards_phrase)\n",
    "    if backwards_phrase==forward_phrase:\n",
    "        print(\"Palindrome\")\n",
    "    else:\n",
    "        print (\"Not Plaindrome\")\n",
    "   "
   ]
  },
  {
   "cell_type": "code",
   "execution_count": 97,
   "id": "002b6085",
   "metadata": {},
   "outputs": [
    {
     "name": "stdout",
     "output_type": "stream",
     "text": [
      "Not Plaindrome\n"
     ]
    }
   ],
   "source": [
    "palindrome(\"howdy\")\n"
   ]
  }
 ],
 "metadata": {
  "kernelspec": {
   "display_name": "Python 3 (ipykernel)",
   "language": "python",
   "name": "python3"
  },
  "language_info": {
   "codemirror_mode": {
    "name": "ipython",
    "version": 3
   },
   "file_extension": ".py",
   "mimetype": "text/x-python",
   "name": "python",
   "nbconvert_exporter": "python",
   "pygments_lexer": "ipython3",
   "version": "3.9.12"
  }
 },
 "nbformat": 4,
 "nbformat_minor": 5
}
